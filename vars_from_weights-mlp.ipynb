{
 "cells": [
  {
   "cell_type": "code",
   "execution_count": 1,
   "id": "e585c8a2-b0fe-485f-b329-33006fbb61be",
   "metadata": {},
   "outputs": [
    {
     "name": "stderr",
     "output_type": "stream",
     "text": [
      "2025-06-18 15:02:13.757927: I tensorflow/core/platform/cpu_feature_guard.cc:182] This TensorFlow binary is optimized to use available CPU instructions in performance-critical operations.\n",
      "To enable the following instructions: AVX2 FMA, in other operations, rebuild TensorFlow with the appropriate compiler flags.\n",
      "2025-06-18 15:02:14.686019: W tensorflow/compiler/tf2tensorrt/utils/py_utils.cc:38] TF-TRT Warning: Could not find TensorRT\n"
     ]
    }
   ],
   "source": [
    "from tensorflow.keras.optimizers import Adam\n",
    "from keras.utils import Sequence\n",
    "import pandas as pd\n",
    "import numpy as np\n",
    "import os\n",
    "\n",
    "pi = 3.14159265359\n",
    "\n",
    "maxval=1e9\n",
    "minval=1e-9"
   ]
  },
  {
   "cell_type": "code",
   "execution_count": 2,
   "id": "541b807f-a778-43f9-898e-5d86b73b6a40",
   "metadata": {},
   "outputs": [],
   "source": [
    "from dataloaders.OptimizedDataGenerator_v2 import OptimizedDataGenerator\n",
    "from mlp_encoder_model import *"
   ]
  },
  {
   "cell_type": "code",
   "execution_count": 3,
   "id": "f3fbdfaa-2b97-43d1-81cb-a7f96f0de130",
   "metadata": {},
   "outputs": [
    {
     "name": "stderr",
     "output_type": "stream",
     "text": [
      "2025-06-18 15:02:16.397773: I tensorflow/core/common_runtime/gpu/gpu_device.cc:1639] Created device /job:localhost/replica:0/task:0/device:GPU:0 with 1209 MB memory:  -> device: 0, name: NVIDIA A100-SXM4-40GB MIG 1g.5gb, pci bus id: 0000:01:00.0, compute capability: 8.0\n"
     ]
    },
    {
     "name": "stdout",
     "output_type": "stream",
     "text": [
      "Model: \"smrtpxl_regression\"\n",
      "__________________________________________________________________________________________________\n",
      " Layer (type)                Output Shape                 Param #   Connected to                  \n",
      "==================================================================================================\n",
      " input_pxls/ (InputLayer)    [(None, 16, 16, 2)]          0         []                            \n",
      "                                                                                                  \n",
      " average_pooling2d (Average  (None, 16, 1, 2)             0         ['input_pxls/[0][0]']         \n",
      " Pooling2D)                                                                                       \n",
      "                                                                                                  \n",
      " average_pooling2d_1 (Avera  (None, 1, 16, 2)             0         ['input_pxls/[0][0]']         \n",
      " gePooling2D)                                                                                     \n",
      "                                                                                                  \n",
      " flatten (Flatten)           (None, 32)                   0         ['average_pooling2d[0][0]']   \n",
      "                                                                                                  \n",
      " flatten_1 (Flatten)         (None, 32)                   0         ['average_pooling2d_1[0][0]'] \n",
      "                                                                                                  \n",
      " q_dense (QDense)            (None, 16)                   528       ['flatten[0][0]']             \n",
      "                                                                                                  \n",
      " q_dense_1 (QDense)          (None, 16)                   528       ['flatten_1[0][0]']           \n",
      "                                                                                                  \n",
      " q_activation (QActivation)  (None, 16)                   0         ['q_dense[0][0]']             \n",
      "                                                                                                  \n",
      " q_activation_1 (QActivatio  (None, 16)                   0         ['q_dense_1[0][0]']           \n",
      " n)                                                                                               \n",
      "                                                                                                  \n",
      " concatenate (Concatenate)   (None, 32)                   0         ['q_activation[0][0]',        \n",
      "                                                                     'q_activation_1[0][0]']      \n",
      "                                                                                                  \n",
      " q_dense_2 (QDense)          (None, 16)                   528       ['concatenate[0][0]']         \n",
      "                                                                                                  \n",
      " q_activation_2 (QActivatio  (None, 16)                   0         ['q_dense_2[0][0]']           \n",
      " n)                                                                                               \n",
      "                                                                                                  \n",
      " flatten_var (Flatten)       (None, 16)                   0         ['q_activation_2[0][0]']      \n",
      "                                                                                                  \n",
      " dense_1 (QDense)            (None, 16)                   272       ['flatten_var[0][0]']         \n",
      "                                                                                                  \n",
      " activation_tanh_2 (QActiva  (None, 16)                   0         ['dense_1[0][0]']             \n",
      " tion)                                                                                            \n",
      "                                                                                                  \n",
      " dense_2 (QDense)            (None, 16)                   272       ['activation_tanh_2[0][0]']   \n",
      "                                                                                                  \n",
      " activation_tanh_3 (QActiva  (None, 16)                   0         ['dense_2[0][0]']             \n",
      " tion)                                                                                            \n",
      "                                                                                                  \n",
      " dense_3 (QDense)            (None, 3)                    51        ['activation_tanh_3[0][0]']   \n",
      "                                                                                                  \n",
      "==================================================================================================\n",
      "Total params: 2179 (8.51 KB)\n",
      "Trainable params: 2179 (8.51 KB)\n",
      "Non-trainable params: 0 (0.00 Byte)\n",
      "__________________________________________________________________________________________________\n"
     ]
    }
   ],
   "source": [
    "model=CreateModel((16,16,2))\n",
    "model.summary()"
   ]
  },
  {
   "cell_type": "code",
   "execution_count": 4,
   "id": "e9c498e2-3971-471e-a2b6-9b44385cfd24",
   "metadata": {},
   "outputs": [
    {
     "name": "stdout",
     "output_type": "stream",
     "text": [
      "Best model: weights.909-t30.28-v30.00.hdf5\n"
     ]
    }
   ],
   "source": [
    "# get best weights file\n",
    "pitch = '50x12P5'\n",
    "batch_size = 5000\n",
    "fingerprint = '34c2da80'\n",
    "timeslices = 2\n",
    "files = os.listdir('/home/dajiang/smart-pixels-ml/weights/dataset_3src_16x16_weights/weights-{}-bs{}-{}-{}t-mlp-sse-slim-checkpoints'.format(pitch, batch_size, fingerprint, timeslices))\n",
    "\n",
    "vlosses = [float(f.split(\"-v\")[1].split(\".hdf5\")[0]) for f in files]\n",
    "bestfile = files[np.argmin(vlosses)]\n",
    "model.load_weights('/home/dajiang/smart-pixels-ml/weights/dataset_3src_16x16_weights/weights-{}-bs{}-{}-{}t-mlp-sse-slim-checkpoints/'.format(pitch, batch_size, fingerprint, timeslices)+bestfile)\n",
    "\n",
    "print('Best model: {}'.format(bestfile))"
   ]
  },
  {
   "cell_type": "code",
   "execution_count": 5,
   "id": "db70942f-f779-4659-ab03-578201ae8412",
   "metadata": {},
   "outputs": [
    {
     "name": "stderr",
     "output_type": "stream",
     "text": [
      "WARNING:root:Quantization is True in data generator. This may affect model performance.\n"
     ]
    },
    {
     "name": "stdout",
     "output_type": "stream",
     "text": [
      "Loading metadata from /data/dajiang/smart-pixels/dataset_3sr/shuffled/dataset_3sr_16x16_50x12P5_parquets/contained/TFR_files/2t/TFR_val_slim/metadata.json\n"
     ]
    }
   ],
   "source": [
    "# load in the test set\n",
    "test_generator = OptimizedDataGenerator(\n",
    "    load_from_tfrecords_dir = '/data/dajiang/smart-pixels/dataset_3sr/shuffled/dataset_3sr_16x16_50x12P5_parquets/contained/TFR_files/2t/TFR_val_slim',\n",
    "    quantize = True\n",
    ")"
   ]
  },
  {
   "cell_type": "code",
   "execution_count": 6,
   "id": "10f180d0-98d6-49d2-bd95-c83231e0ab13",
   "metadata": {},
   "outputs": [
    {
     "name": "stdout",
     "output_type": "stream",
     "text": [
      " 1/21 [>.............................] - ETA: 10s"
     ]
    },
    {
     "name": "stderr",
     "output_type": "stream",
     "text": [
      "2025-06-18 15:02:30.669167: I tensorflow/compiler/xla/stream_executor/cuda/cuda_dnn.cc:432] Loaded cuDNN version 8906\n",
      "2025-06-18 15:02:30.674938: I tensorflow/compiler/xla/stream_executor/cuda/cuda_blas.cc:606] TensorFloat-32 will be used for the matrix multiplication. This will only be logged once.\n"
     ]
    },
    {
     "name": "stdout",
     "output_type": "stream",
     "text": [
      "21/21 [==============================] - 7s 327ms/step\n"
     ]
    }
   ],
   "source": [
    "# predicts test data\n",
    "p_test = model.predict(test_generator)\n",
    "\n",
    "complete_truth = None\n",
    "for _, y in test_generator:\n",
    "    if complete_truth is None:\n",
    "        complete_truth = y\n",
    "    else:\n",
    "        complete_truth = np.concatenate((complete_truth, y), axis=0)\n",
    "\n",
    "# creates df with all predicted values and matrix elements - 4 predictions, all 10 unique matrix elements\n",
    "df = pd.DataFrame(p_test,columns=['x','y','cotB'])\n",
    "\n",
    "# stores all true values in same matrix as xtrue, ytrue, etc.\n",
    "df['xtrue'] = complete_truth[:,0]\n",
    "df['ytrue'] = complete_truth[:,1]\n",
    "df['cotBtrue'] = complete_truth[:,2]\n",
    "\n",
    "# calculates residuals for x, y, cotA, cotB\n",
    "df['residualsX'] = df['xtrue'] - df['x']\n",
    "df['residualsY'] = df['ytrue'] - df['y']\n",
    "df['residualsB'] = df['cotBtrue'] - df['cotB']\n",
    "\n",
    "# stores results as parquet\n",
    "df.to_parquet(\"/home/dajiang/smart-pixels-ml/processed_parquets/dataset_3src_16x16/test-dataset_3src_16x16/{}_bs{}_{}_{}t_train-dataset_3src_16x16_test-dataset_3src_16x16_mlp-slim-sse-vars.parquet\".format(pitch, batch_size, fingerprint, timeslices))"
   ]
  },
  {
   "cell_type": "code",
   "execution_count": null,
   "id": "7244d23f-ffb6-40ba-b619-c1250554de45",
   "metadata": {},
   "outputs": [],
   "source": []
  }
 ],
 "metadata": {
  "kernelspec": {
   "display_name": "Python 3 (ipykernel)",
   "language": "python",
   "name": "python3"
  },
  "language_info": {
   "codemirror_mode": {
    "name": "ipython",
    "version": 3
   },
   "file_extension": ".py",
   "mimetype": "text/x-python",
   "name": "python",
   "nbconvert_exporter": "python",
   "pygments_lexer": "ipython3",
   "version": "3.8.10"
  }
 },
 "nbformat": 4,
 "nbformat_minor": 5
}
