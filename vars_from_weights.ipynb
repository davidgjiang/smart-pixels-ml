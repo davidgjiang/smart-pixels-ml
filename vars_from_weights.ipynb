{
 "cells": [
  {
   "cell_type": "code",
   "execution_count": 2,
   "id": "e585c8a2-b0fe-485f-b329-33006fbb61be",
   "metadata": {},
   "outputs": [
    {
     "name": "stderr",
     "output_type": "stream",
     "text": [
      "2025-03-29 12:20:31.310035: E external/local_xla/xla/stream_executor/cuda/cuda_fft.cc:467] Unable to register cuFFT factory: Attempting to register factory for plugin cuFFT when one has already been registered\n",
      "WARNING: All log messages before absl::InitializeLog() is called are written to STDERR\n",
      "E0000 00:00:1743268831.332401 3941807 cuda_dnn.cc:8579] Unable to register cuDNN factory: Attempting to register factory for plugin cuDNN when one has already been registered\n",
      "E0000 00:00:1743268831.338773 3941807 cuda_blas.cc:1407] Unable to register cuBLAS factory: Attempting to register factory for plugin cuBLAS when one has already been registered\n",
      "W0000 00:00:1743268831.355434 3941807 computation_placer.cc:177] computation placer already registered. Please check linkage and avoid linking the same target more than once.\n",
      "W0000 00:00:1743268831.355456 3941807 computation_placer.cc:177] computation placer already registered. Please check linkage and avoid linking the same target more than once.\n",
      "W0000 00:00:1743268831.355460 3941807 computation_placer.cc:177] computation placer already registered. Please check linkage and avoid linking the same target more than once.\n",
      "W0000 00:00:1743268831.355463 3941807 computation_placer.cc:177] computation placer already registered. Please check linkage and avoid linking the same target more than once.\n",
      "2025-03-29 12:20:31.362907: I tensorflow/core/platform/cpu_feature_guard.cc:210] This TensorFlow binary is optimized to use available CPU instructions in performance-critical operations.\n",
      "To enable the following instructions: AVX2 FMA, in other operations, rebuild TensorFlow with the appropriate compiler flags.\n"
     ]
    }
   ],
   "source": [
    "from tensorflow.keras.optimizers import Adam\n",
    "from keras.utils import Sequence\n",
    "import pandas as pd\n",
    "import numpy as np\n",
    "import os\n",
    "\n",
    "pi = 3.14159265359\n",
    "\n",
    "maxval=1e9\n",
    "minval=1e-9"
   ]
  },
  {
   "cell_type": "code",
   "execution_count": 3,
   "id": "541b807f-a778-43f9-898e-5d86b73b6a40",
   "metadata": {},
   "outputs": [
    {
     "ename": "ModuleNotFoundError",
     "evalue": "No module named 'qkeras'",
     "output_type": "error",
     "traceback": [
      "\u001b[0;31m---------------------------------------------------------------------------\u001b[0m",
      "\u001b[0;31mModuleNotFoundError\u001b[0m                       Traceback (most recent call last)",
      "Cell \u001b[0;32mIn[3], line 1\u001b[0m\n\u001b[0;32m----> 1\u001b[0m \u001b[38;5;28;01mfrom\u001b[39;00m \u001b[38;5;21;01mdataloaders\u001b[39;00m\u001b[38;5;21;01m.\u001b[39;00m\u001b[38;5;21;01mOptimizedDataGenerator\u001b[39;00m \u001b[38;5;28;01mimport\u001b[39;00m OptimizedDataGenerator\n\u001b[1;32m      2\u001b[0m \u001b[38;5;28;01mfrom\u001b[39;00m \u001b[38;5;21;01mmodels\u001b[39;00m\u001b[38;5;21;01m.\u001b[39;00m\u001b[38;5;21;01mmodels\u001b[39;00m \u001b[38;5;28;01mimport\u001b[39;00m \u001b[38;5;241m*\u001b[39m\n",
      "File \u001b[0;32m~/smart-pixels-ml/dataloaders/OptimizedDataGenerator.py:3\u001b[0m\n\u001b[1;32m      1\u001b[0m \u001b[38;5;66;03m# python imports\u001b[39;00m\n\u001b[1;32m      2\u001b[0m \u001b[38;5;28;01mimport\u001b[39;00m \u001b[38;5;21;01mtensorflow\u001b[39;00m \u001b[38;5;28;01mas\u001b[39;00m \u001b[38;5;21;01mtf\u001b[39;00m\n\u001b[0;32m----> 3\u001b[0m \u001b[38;5;28;01mfrom\u001b[39;00m \u001b[38;5;21;01mqkeras\u001b[39;00m \u001b[38;5;28;01mimport\u001b[39;00m quantized_bits\n\u001b[1;32m      4\u001b[0m \u001b[38;5;28;01mfrom\u001b[39;00m \u001b[38;5;21;01mtyping\u001b[39;00m \u001b[38;5;28;01mimport\u001b[39;00m Union, List, Tuple\n\u001b[1;32m      5\u001b[0m \u001b[38;5;28;01mimport\u001b[39;00m \u001b[38;5;21;01mglob\u001b[39;00m\n",
      "\u001b[0;31mModuleNotFoundError\u001b[0m: No module named 'qkeras'"
     ]
    }
   ],
   "source": [
    "from dataloaders.OptimizedDataGenerator import OptimizedDataGenerator\n",
    "from models.models import *"
   ]
  },
  {
   "cell_type": "code",
   "execution_count": 3,
   "id": "f3fbdfaa-2b97-43d1-81cb-a7f96f0de130",
   "metadata": {},
   "outputs": [
    {
     "name": "stderr",
     "output_type": "stream",
     "text": [
      "2025-03-08 19:06:34.725515: I tensorflow/core/common_runtime/gpu/gpu_device.cc:1639] Created device /job:localhost/replica:0/task:0/device:GPU:0 with 3234 MB memory:  -> device: 0, name: NVIDIA A100-SXM4-40GB MIG 1g.5gb, pci bus id: 0000:c1:00.0, compute capability: 8.0\n",
      "/usr/local/lib/python3.8/dist-packages/keras/src/initializers/initializers.py:120: UserWarning: The initializer GlorotUniform is unseeded and being called multiple times, which will return identical values each time (even if the initializer is unseeded). Please update your code to provide a seed to the initializer, or avoid using the same initializer instance more than once.\n",
      "  warnings.warn(\n"
     ]
    },
    {
     "name": "stdout",
     "output_type": "stream",
     "text": [
      "Model: \"model\"\n",
      "_________________________________________________________________\n",
      " Layer (type)                Output Shape              Param #   \n",
      "=================================================================\n",
      " input_1 (InputLayer)        [(None, 13, 21, 20)]      0         \n",
      "                                                                 \n",
      " q_separable_conv2d (QSepar  (None, 9, 17, 32)         1172      \n",
      " ableConv2D)                                                     \n",
      "                                                                 \n",
      " q_activation (QActivation)  (None, 9, 17, 32)         0         \n",
      "                                                                 \n",
      " q_separable_conv2d_1 (QSep  (None, 5, 13, 16)         1328      \n",
      " arableConv2D)                                                   \n",
      "                                                                 \n",
      " q_activation_1 (QActivatio  (None, 5, 13, 16)         0         \n",
      " n)                                                              \n",
      "                                                                 \n",
      " average_pooling2d (Average  (None, 1, 4, 16)          0         \n",
      " Pooling2D)                                                      \n",
      "                                                                 \n",
      " q_activation_2 (QActivatio  (None, 1, 4, 16)          0         \n",
      " n)                                                              \n",
      "                                                                 \n",
      " flatten (Flatten)           (None, 64)                0         \n",
      "                                                                 \n",
      " q_dense (QDense)            (None, 16)                1040      \n",
      "                                                                 \n",
      " q_activation_3 (QActivatio  (None, 16)                0         \n",
      " n)                                                              \n",
      "                                                                 \n",
      " q_dense_1 (QDense)          (None, 16)                272       \n",
      "                                                                 \n",
      " q_activation_4 (QActivatio  (None, 16)                0         \n",
      " n)                                                              \n",
      "                                                                 \n",
      " q_dense_2 (QDense)          (None, 14)                238       \n",
      "                                                                 \n",
      "=================================================================\n",
      "Total params: 4050 (15.82 KB)\n",
      "Trainable params: 4050 (15.82 KB)\n",
      "Non-trainable params: 0 (0.00 Byte)\n",
      "_________________________________________________________________\n"
     ]
    }
   ],
   "source": [
    "model=CreateModel_v2((13,21,20))\n",
    "model.summary()"
   ]
  },
  {
   "cell_type": "code",
   "execution_count": 16,
   "id": "e9c498e2-3971-471e-a2b6-9b44385cfd24",
   "metadata": {},
   "outputs": [],
   "source": [
    "# get best weights file\n",
    "pitch = '50x12P5'\n",
    "batch_size = 5000\n",
    "fingerprint = '1818e811'\n",
    "files = os.listdir('/home/dajiang/smart-pixels-ml/weights/weights_7pitches/dataset_3sr_cotBeta1P5_haarTransformed_weights/weights-{}-bs{}-{}-checkpoints'.format(pitch, batch_size, fingerprint))\n",
    "\n",
    "vlosses = [float(f.split(\"-v\")[1].split(\".hdf5\")[0]) for f in files]\n",
    "bestfile = files[np.argmin(vlosses)]\n",
    "#model.load_weights('/home/dajiang/smart-pixels-ml/weights/weights_7pitches/dataset_3sr_cotBeta1P5_haarTransformed_weights/weights-{}-bs{}-{}-checkpoints/'.format(pitch, batch_size, fingerprint)+bestfile)"
   ]
  },
  {
   "cell_type": "code",
   "execution_count": 17,
   "id": "4bceca58-4cbb-4cc6-8507-eec944d9c3ea",
   "metadata": {},
   "outputs": [
    {
     "data": {
      "text/plain": [
       "'weights.386-t-20552.54-v-22209.09.hdf5'"
      ]
     },
     "execution_count": 17,
     "metadata": {},
     "output_type": "execute_result"
    }
   ],
   "source": [
    "bestfile"
   ]
  },
  {
   "cell_type": "code",
   "execution_count": 6,
   "id": "db70942f-f779-4659-ab03-578201ae8412",
   "metadata": {},
   "outputs": [
    {
     "name": "stderr",
     "output_type": "stream",
     "text": [
      "WARNING:root:Quantization is True in data generator. This may affect model performance.\n"
     ]
    }
   ],
   "source": [
    "# load in the test set\n",
    "test_generator = OptimizedDataGenerator(\n",
    "    load_from_tfrecords_dir = '/data/dajiang/smart-pixels/tfrecords/tfrecords_dataset_3sr_{}_20t_bs5000_cotBeta1P5_val'.format(pitch),\n",
    "    quantize = True\n",
    ")"
   ]
  },
  {
   "cell_type": "code",
   "execution_count": 7,
   "id": "10f180d0-98d6-49d2-bd95-c83231e0ab13",
   "metadata": {},
   "outputs": [
    {
     "name": "stdout",
     "output_type": "stream",
     "text": [
      " 2/45 [>.............................] - ETA: 4s "
     ]
    },
    {
     "name": "stderr",
     "output_type": "stream",
     "text": [
      "2025-03-08 19:06:57.421001: I tensorflow/compiler/xla/stream_executor/cuda/cuda_blas.cc:606] TensorFloat-32 will be used for the matrix multiplication. This will only be logged once.\n",
      "2025-03-08 19:06:57.457518: I tensorflow/compiler/xla/stream_executor/cuda/cuda_dnn.cc:432] Loaded cuDNN version 8906\n"
     ]
    },
    {
     "name": "stdout",
     "output_type": "stream",
     "text": [
      "45/45 [==============================] - 7s 149ms/step\n"
     ]
    }
   ],
   "source": [
    "# predicts test data\n",
    "p_test = model.predict(test_generator)\n",
    "\n",
    "complete_truth = None\n",
    "for _, y in test_generator:\n",
    "    if complete_truth is None:\n",
    "        complete_truth = y\n",
    "    else:\n",
    "        complete_truth = np.concatenate((complete_truth, y), axis=0)\n",
    "\n",
    "# creates df with all predicted values and matrix elements - 4 predictions, all 10 unique matrix elements\n",
    "df = pd.DataFrame(p_test,columns=['x','M11','y','M22','cotA','M33','cotB','M44','M21','M31','M32','M41','M42','M43'])\n",
    "\n",
    "# stores all true values in same matrix as xtrue, ytrue, etc.\n",
    "df['xtrue'] = complete_truth[:,0]\n",
    "df['ytrue'] = complete_truth[:,1]\n",
    "df['cotAtrue'] = complete_truth[:,2]\n",
    "df['cotBtrue'] = complete_truth[:,3]\n",
    "df['M11'] = minval+tf.math.maximum(df['M11'], 0)\n",
    "df['M22'] = minval+tf.math.maximum(df['M22'], 0)\n",
    "df['M33'] = minval+tf.math.maximum(df['M33'], 0)\n",
    "df['M44'] = minval+tf.math.maximum(df['M44'], 0)\n",
    "\n",
    "df['sigmax'] = abs(df['M11'])\n",
    "df['sigmay'] = np.sqrt(df['M21']**2 + df['M22']**2)\n",
    "df['sigmacotA'] = np.sqrt(df['M31']**2+df['M32']**2+df['M33']**2)\n",
    "df['sigmacotB'] = np.sqrt(df['M41']**2+df['M42']**2+df['M43']**2+df['M44']**2)\n",
    "\n",
    "# calculates residuals for x, y, cotA, cotB\n",
    "df['residualsX'] = df['xtrue'] - df['x']\n",
    "df['residualsY'] = df['ytrue'] - df['y']\n",
    "df['residualsA'] = df['cotAtrue'] - df['cotA']\n",
    "df['residualsB'] = df['cotBtrue'] - df['cotB']\n",
    "\n",
    "# calculates pulls for x, y, cotA, cotB\n",
    "df['pullx'] = (df['xtrue']-df['x'])/df['sigmax']\n",
    "df['pully'] = (df['ytrue']-df['y'])/df['sigmay']\n",
    "df['pullcotA'] = (df['cotAtrue']-df['cotA'])/df['sigmacotA']\n",
    "df['pullcotB'] = (df['cotBtrue']-df['cotB'])/df['sigmacotB']\n",
    "\n",
    "# stores results as parquet\n",
    "df.to_parquet(\"/home/dajiang/smart-pixels-ml/processed_parquets/dataset_3sr_cotBeta1P5/{}_bs{}_{}_20t_dataset3sr_v2_vars.parquet\".format(pitch, batch_size, date))"
   ]
  },
  {
   "cell_type": "code",
   "execution_count": null,
   "id": "7244d23f-ffb6-40ba-b619-c1250554de45",
   "metadata": {},
   "outputs": [],
   "source": []
  }
 ],
 "metadata": {
  "kernelspec": {
   "display_name": "Python 3",
   "language": "python",
   "name": "python3"
  },
  "language_info": {
   "codemirror_mode": {
    "name": "ipython",
    "version": 3
   },
   "file_extension": ".py",
   "mimetype": "text/x-python",
   "name": "python",
   "nbconvert_exporter": "python",
   "pygments_lexer": "ipython3",
   "version": "3.9.21"
  }
 },
 "nbformat": 4,
 "nbformat_minor": 5
}
