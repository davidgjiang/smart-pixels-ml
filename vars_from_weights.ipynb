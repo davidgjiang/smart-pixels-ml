{
 "cells": [
  {
   "cell_type": "code",
   "execution_count": 1,
   "id": "e585c8a2-b0fe-485f-b329-33006fbb61be",
   "metadata": {},
   "outputs": [
    {
     "name": "stderr",
     "output_type": "stream",
     "text": [
      "2025-05-13 19:23:35.545361: I tensorflow/core/platform/cpu_feature_guard.cc:182] This TensorFlow binary is optimized to use available CPU instructions in performance-critical operations.\n",
      "To enable the following instructions: AVX2 FMA, in other operations, rebuild TensorFlow with the appropriate compiler flags.\n",
      "2025-05-13 19:23:36.454525: W tensorflow/compiler/tf2tensorrt/utils/py_utils.cc:38] TF-TRT Warning: Could not find TensorRT\n"
     ]
    }
   ],
   "source": [
    "from tensorflow.keras.optimizers import Adam\n",
    "from keras.utils import Sequence\n",
    "import pandas as pd\n",
    "import numpy as np\n",
    "import os\n",
    "\n",
    "pi = 3.14159265359\n",
    "\n",
    "maxval=1e9\n",
    "minval=1e-9"
   ]
  },
  {
   "cell_type": "code",
   "execution_count": 2,
   "id": "541b807f-a778-43f9-898e-5d86b73b6a40",
   "metadata": {},
   "outputs": [],
   "source": [
    "from dataloaders.OptimizedDataGenerator import OptimizedDataGenerator\n",
    "from models import *"
   ]
  },
  {
   "cell_type": "code",
   "execution_count": 3,
   "id": "f3fbdfaa-2b97-43d1-81cb-a7f96f0de130",
   "metadata": {},
   "outputs": [
    {
     "name": "stderr",
     "output_type": "stream",
     "text": [
      "2025-05-13 19:23:37.996346: I tensorflow/core/common_runtime/gpu/gpu_device.cc:1639] Created device /job:localhost/replica:0/task:0/device:GPU:0 with 1163 MB memory:  -> device: 0, name: NVIDIA A100-SXM4-40GB MIG 1g.5gb, pci bus id: 0000:01:00.0, compute capability: 8.0\n"
     ]
    },
    {
     "name": "stdout",
     "output_type": "stream",
     "text": [
      "Model: \"model\"\n",
      "_________________________________________________________________\n",
      " Layer (type)                Output Shape              Param #   \n",
      "=================================================================\n",
      " input_1 (InputLayer)        [(None, 13, 21, 2)]       0         \n",
      "                                                                 \n",
      " q_separable_conv2d (QSepar  (None, 11, 19, 5)         33        \n",
      " ableConv2D)                                                     \n",
      "                                                                 \n",
      " q_activation (QActivation)  (None, 11, 19, 5)         0         \n",
      "                                                                 \n",
      " q_conv2d (QConv2D)          (None, 11, 19, 5)         30        \n",
      "                                                                 \n",
      " q_activation_1 (QActivatio  (None, 11, 19, 5)         0         \n",
      " n)                                                              \n",
      "                                                                 \n",
      " average_pooling2d (Average  (None, 3, 6, 5)           0         \n",
      " Pooling2D)                                                      \n",
      "                                                                 \n",
      " q_activation_2 (QActivatio  (None, 3, 6, 5)           0         \n",
      " n)                                                              \n",
      "                                                                 \n",
      " flatten (Flatten)           (None, 90)                0         \n",
      "                                                                 \n",
      " q_dense (QDense)            (None, 16)                1456      \n",
      "                                                                 \n",
      " q_activation_3 (QActivatio  (None, 16)                0         \n",
      " n)                                                              \n",
      "                                                                 \n",
      " q_dense_1 (QDense)          (None, 16)                272       \n",
      "                                                                 \n",
      " q_activation_4 (QActivatio  (None, 16)                0         \n",
      " n)                                                              \n",
      "                                                                 \n",
      " q_dense_2 (QDense)          (None, 14)                238       \n",
      "                                                                 \n",
      "=================================================================\n",
      "Total params: 2029 (7.93 KB)\n",
      "Trainable params: 2029 (7.93 KB)\n",
      "Non-trainable params: 0 (0.00 Byte)\n",
      "_________________________________________________________________\n"
     ]
    }
   ],
   "source": [
    "model=CreateModel((13,21,2),n_filters=5,pool_size=3)\n",
    "model.summary()"
   ]
  },
  {
   "cell_type": "code",
   "execution_count": 4,
   "id": "e9c498e2-3971-471e-a2b6-9b44385cfd24",
   "metadata": {},
   "outputs": [
    {
     "name": "stdout",
     "output_type": "stream",
     "text": [
      "Best model: weights.865-t6923.45-v6883.91.hdf5\n"
     ]
    }
   ],
   "source": [
    "# get best weights file\n",
    "pitch = '50x12P5'\n",
    "batch_size = 5000\n",
    "fingerprint = '34c2da80'\n",
    "files = os.listdir('/home/dajiang/smart-pixels-ml/weights/weights_7pitches/dataset_3sr_contained_weights/weights-{}-bs{}-{}-2t-checkpoints'.format(pitch, batch_size, fingerprint))\n",
    "\n",
    "vlosses = [float(f.split(\"-v\")[1].split(\".hdf5\")[0]) for f in files]\n",
    "bestfile = files[np.argmin(vlosses)]\n",
    "model.load_weights('/home/dajiang/smart-pixels-ml/weights/weights_7pitches/dataset_3sr_contained_weights/weights-{}-bs{}-{}-2t-checkpoints/'.format(pitch, batch_size, fingerprint)+bestfile)\n",
    "\n",
    "print('Best model: {}'.format(bestfile))"
   ]
  },
  {
   "cell_type": "code",
   "execution_count": 5,
   "id": "db70942f-f779-4659-ab03-578201ae8412",
   "metadata": {},
   "outputs": [
    {
     "name": "stderr",
     "output_type": "stream",
     "text": [
      "WARNING:root:Quantization is True in data generator. This may affect model performance.\n"
     ]
    },
    {
     "data": {
      "text/plain": [
       "\"\\ntest_generator = OptimizedDataGenerator(\\n    data_directory_path = '/data/dajiang/smart-pixels/dataset_2s/dataset_2s_50x12P5_parquets/unflipped/',\\n    labels_directory_path = '/data/dajiang/smart-pixels/dataset_2s/dataset_2s_50x12P5_parquets/unflipped/',\\n    is_directory_recursive = False,\\n    file_type = 'parquet',\\n    data_format = '3D',\\n    batch_size = 5000,\\n    file_count = 50,\\n    to_standardize= True,\\n    include_y_local= False,\\n    labels_list = ['x-midplane','y-midplane','cotAlpha','cotBeta'],\\n    scaling_list = [75.0, 18.75, 10.0, 1.22],\\n    input_shape = (2,13,21),\\n    transpose = (0,2,3,1),\\n    files_from_end = False,\\n    shuffle = True,\\n\\n    #load_from_tfrecords_dir = '/data/dajiang/smart-pixels/tfrecords/tfrecords_dataset_2s_50x12P5_2t_bs5000_test',\\n    tfrecords_dir = '/data/dajiang/smart-pixels/tfrecords/tfrecords_dataset_2s_50x12P5_2t_bs5000_test',\\n    use_time_stamps = [0,19], #-1\\n    max_workers = 1, # Don't make this too large (will use up all RAM)\\n    seed = 1,\\n    quantize = True # Quantization ON\\n)\\n\""
      ]
     },
     "execution_count": 5,
     "metadata": {},
     "output_type": "execute_result"
    }
   ],
   "source": [
    "# load in the test set\n",
    "test_generator = OptimizedDataGenerator(\n",
    "    load_from_tfrecords_dir = '/data/dajiang/smart-pixels/tfrecords/tfrecords_dataset_2s_{}_2t_bs5000_test'.format(pitch),\n",
    "    quantize = True\n",
    ")\n",
    "\n",
    "'''\n",
    "test_generator = OptimizedDataGenerator(\n",
    "    data_directory_path = '/data/dajiang/smart-pixels/dataset_2s/dataset_2s_50x12P5_parquets/unflipped/',\n",
    "    labels_directory_path = '/data/dajiang/smart-pixels/dataset_2s/dataset_2s_50x12P5_parquets/unflipped/',\n",
    "    is_directory_recursive = False,\n",
    "    file_type = 'parquet',\n",
    "    data_format = '3D',\n",
    "    batch_size = 5000,\n",
    "    file_count = 50,\n",
    "    to_standardize= True,\n",
    "    include_y_local= False,\n",
    "    labels_list = ['x-midplane','y-midplane','cotAlpha','cotBeta'],\n",
    "    scaling_list = [75.0, 18.75, 10.0, 1.22],\n",
    "    input_shape = (2,13,21),\n",
    "    transpose = (0,2,3,1),\n",
    "    files_from_end = False,\n",
    "    shuffle = True,\n",
    "\n",
    "    #load_from_tfrecords_dir = '/data/dajiang/smart-pixels/tfrecords/tfrecords_dataset_2s_50x12P5_2t_bs5000_test',\n",
    "    tfrecords_dir = '/data/dajiang/smart-pixels/tfrecords/tfrecords_dataset_2s_50x12P5_2t_bs5000_test',\n",
    "    use_time_stamps = [0,19], #-1\n",
    "    max_workers = 1, # Don't make this too large (will use up all RAM)\n",
    "    seed = 1,\n",
    "    quantize = True # Quantization ON\n",
    ")\n",
    "'''"
   ]
  },
  {
   "cell_type": "code",
   "execution_count": 6,
   "id": "10f180d0-98d6-49d2-bd95-c83231e0ab13",
   "metadata": {},
   "outputs": [
    {
     "name": "stdout",
     "output_type": "stream",
     "text": [
      "  1/408 [..............................] - ETA: 3:34"
     ]
    },
    {
     "name": "stderr",
     "output_type": "stream",
     "text": [
      "2025-05-13 19:23:56.685656: I tensorflow/compiler/xla/stream_executor/cuda/cuda_blas.cc:606] TensorFloat-32 will be used for the matrix multiplication. This will only be logged once.\n",
      "2025-05-13 19:23:56.705011: I tensorflow/compiler/xla/stream_executor/cuda/cuda_dnn.cc:432] Loaded cuDNN version 8906\n"
     ]
    },
    {
     "name": "stdout",
     "output_type": "stream",
     "text": [
      "408/408 [==============================] - 109s 266ms/step\n"
     ]
    }
   ],
   "source": [
    "# predicts test data\n",
    "p_test = model.predict(test_generator)\n",
    "\n",
    "complete_truth = None\n",
    "for _, y in test_generator:\n",
    "    if complete_truth is None:\n",
    "        complete_truth = y\n",
    "    else:\n",
    "        complete_truth = np.concatenate((complete_truth, y), axis=0)\n",
    "\n",
    "# creates df with all predicted values and matrix elements - 4 predictions, all 10 unique matrix elements\n",
    "df = pd.DataFrame(p_test,columns=['x','M11','y','M22','cotA','M33','cotB','M44','M21','M31','M32','M41','M42','M43'])\n",
    "\n",
    "# stores all true values in same matrix as xtrue, ytrue, etc.\n",
    "df['xtrue'] = complete_truth[:,0]\n",
    "df['ytrue'] = complete_truth[:,1]\n",
    "df['cotAtrue'] = complete_truth[:,2]\n",
    "df['cotBtrue'] = complete_truth[:,3]\n",
    "df['M11'] = minval+tf.math.maximum(df['M11'], 0)\n",
    "df['M22'] = minval+tf.math.maximum(df['M22'], 0)\n",
    "df['M33'] = minval+tf.math.maximum(df['M33'], 0)\n",
    "df['M44'] = minval+tf.math.maximum(df['M44'], 0)\n",
    "\n",
    "df['sigmax'] = abs(df['M11'])\n",
    "df['sigmay'] = np.sqrt(df['M21']**2 + df['M22']**2)\n",
    "df['sigmacotA'] = np.sqrt(df['M31']**2+df['M32']**2+df['M33']**2)\n",
    "df['sigmacotB'] = np.sqrt(df['M41']**2+df['M42']**2+df['M43']**2+df['M44']**2)\n",
    "\n",
    "# calculates residuals for x, y, cotA, cotB\n",
    "df['residualsX'] = df['xtrue'] - df['x']\n",
    "df['residualsY'] = df['ytrue'] - df['y']\n",
    "df['residualsA'] = df['cotAtrue'] - df['cotA']\n",
    "df['residualsB'] = df['cotBtrue'] - df['cotB']\n",
    "\n",
    "# calculates pulls for x, y, cotA, cotB\n",
    "df['pullx'] = (df['xtrue']-df['x'])/df['sigmax']\n",
    "df['pully'] = (df['ytrue']-df['y'])/df['sigmay']\n",
    "df['pullcotA'] = (df['cotAtrue']-df['cotA'])/df['sigmacotA']\n",
    "df['pullcotB'] = (df['cotBtrue']-df['cotB'])/df['sigmacotB']\n",
    "\n",
    "# stores results as parquet\n",
    "df.to_parquet(\"/home/dajiang/smart-pixels-ml/processed_parquets/dataset_3sr_contained/{}_bs{}_{}_2t_train-dataset_2s_test-dataset_2s_vars.parquet\".format(pitch, batch_size, fingerprint))"
   ]
  },
  {
   "cell_type": "code",
   "execution_count": null,
   "id": "7244d23f-ffb6-40ba-b619-c1250554de45",
   "metadata": {},
   "outputs": [],
   "source": []
  }
 ],
 "metadata": {
  "kernelspec": {
   "display_name": "Python 3 (ipykernel)",
   "language": "python",
   "name": "python3"
  },
  "language_info": {
   "codemirror_mode": {
    "name": "ipython",
    "version": 3
   },
   "file_extension": ".py",
   "mimetype": "text/x-python",
   "name": "python",
   "nbconvert_exporter": "python",
   "pygments_lexer": "ipython3",
   "version": "3.8.10"
  }
 },
 "nbformat": 4,
 "nbformat_minor": 5
}
